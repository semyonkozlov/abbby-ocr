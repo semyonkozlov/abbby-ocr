{
 "cells": [
  {
   "cell_type": "code",
   "execution_count": 1,
   "metadata": {
    "collapsed": false,
    "deletable": true,
    "editable": true
   },
   "outputs": [],
   "source": [
    "import numpy as np\n",
    "from matplotlib import pyplot as plt\n",
    "import csv\n",
    "from scipy.misc import imresize\n",
    "\n",
    "%matplotlib inline"
   ]
  },
  {
   "cell_type": "code",
   "execution_count": 2,
   "metadata": {
    "collapsed": false,
    "deletable": true,
    "editable": true
   },
   "outputs": [],
   "source": [
    "train_data = np.fromfile(\"trainImages.dmp\", dtype=np.uint8)\n",
    "train_labels = []\n",
    "with open(\"trainLabels.txt\", \"r\") as csvfile:\n",
    "    values = csv.reader(csvfile, delimiter=',')\n",
    "    for value in values:\n",
    "        train_labels.append(value[1])\n",
    "        \n",
    "train_labels = train_labels[1:]"
   ]
  },
  {
   "cell_type": "code",
   "execution_count": 3,
   "metadata": {
    "collapsed": false,
    "deletable": true,
    "editable": true
   },
   "outputs": [],
   "source": [
    "def parse_image_data(train_data):\n",
    "    i = 0\n",
    "    images = []\n",
    "    while i < len(train_data):\n",
    "        width = train_data[i]\n",
    "        i += 1\n",
    "        height = train_data[i]\n",
    "        i += 1\n",
    "        size = int(width) * height\n",
    "        image = train_data[i:i + size]\n",
    "        i += size\n",
    "        images.append(image.reshape(width, height))\n",
    "    return images"
   ]
  },
  {
   "cell_type": "code",
   "execution_count": 4,
   "metadata": {
    "collapsed": true,
    "deletable": true,
    "editable": true
   },
   "outputs": [],
   "source": [
    "train_data = parse_image_data(train_data)"
   ]
  },
  {
   "cell_type": "code",
   "execution_count": 5,
   "metadata": {
    "collapsed": false,
    "deletable": true,
    "editable": true
   },
   "outputs": [
    {
     "data": {
      "image/png": "[encoded data removed]",
      "text/plain": [
       "<matplotlib.figure.Figure at 0x7f741c3bf750>"
      ]
     },
     "metadata": {},
     "output_type": "display_data"
    },
    {
     "name": "stdout",
     "output_type": "stream",
     "text": [
      "Greek_Lambda\n"
     ]
    }
   ],
   "source": [
    "index = 1234\n",
    "plt.imshow(train_data[index])\n",
    "plt.show()\n",
    "print(train_labels[index])"
   ]
  },
  {
   "cell_type": "code",
   "execution_count": 6,
   "metadata": {
    "collapsed": true,
    "deletable": true,
    "editable": true
   },
   "outputs": [],
   "source": [
    "test_data = np.fromfile(\"testImages.dmp\", dtype=np.uint8)\n",
    "test_data = parse_image_data(test_data)"
   ]
  },
  {
   "cell_type": "code",
   "execution_count": 7,
   "metadata": {
    "collapsed": false,
    "deletable": true,
    "editable": true,
    "scrolled": true
   },
   "outputs": [
    {
     "data": {
      "image/png": "[encoded data removed]",
      "text/plain": [
       "<matplotlib.figure.Figure at 0x7f73dc4b1f10>"
      ]
     },
     "metadata": {},
     "output_type": "display_data"
    }
   ],
   "source": [
    "index = 100\n",
    "plt.imshow(test_data[index])\n",
    "plt.show()"
   ]
  },
  {
   "cell_type": "code",
   "execution_count": 8,
   "metadata": {
    "collapsed": false,
    "deletable": true,
    "editable": true
   },
   "outputs": [],
   "source": [
    "size = np.mean(list(map(lambda x: x.shape, test_data)), axis=0)\n",
    "size /= 2\n",
    "size = size.astype(int)"
   ]
  },
  {
   "cell_type": "code",
   "execution_count": 9,
   "metadata": {
    "collapsed": false,
    "deletable": true,
    "editable": true
   },
   "outputs": [
    {
     "data": {
      "image/png": "[encoded data removed]",
      "text/plain": [
       "<matplotlib.figure.Figure at 0x7f73ffd25890>"
      ]
     },
     "metadata": {},
     "output_type": "display_data"
    }
   ],
   "source": [
    "plt.imshow(imresize(test_data[index], size))\n",
    "plt.show()"
   ]
  },
  {
   "cell_type": "code",
   "execution_count": 10,
   "metadata": {
    "collapsed": false,
    "deletable": true,
    "editable": true
   },
   "outputs": [],
   "source": [
    "train_data_resized = list(map(lambda image: np.ravel(imresize(image, size)), train_data))\n",
    "test_data_resized = list(map(lambda image: np.ravel(imresize(image, size)), test_data))\n"
   ]
  },
  {
   "cell_type": "markdown",
   "metadata": {
    "deletable": true,
    "editable": true
   },
   "source": [
    "Добавим в качестве признаков отношение сторон исходной картинки и среднее количество светлых пикселей."
   ]
  },
  {
   "cell_type": "code",
   "execution_count": 11,
   "metadata": {
    "collapsed": false,
    "deletable": true,
    "editable": true
   },
   "outputs": [],
   "source": [
    "for i in range(len(train_data)):\n",
    "    train_data_resized[i] = np.append(train_data_resized[i], \n",
    "        [float(train_data[i].shape[0]) / float(train_data[i].shape[1]), train_data[i].mean()])\n",
    "                                      \n",
    "for i in range(len(test_data)):\n",
    "    test_data_resized[i] = np.append(test_data_resized[i],\n",
    "        [float(test_data[i].shape[0]) / float(test_data[i].shape[1]), test_data[i].mean()])\n",
    "    "
   ]
  },
  {
   "cell_type": "code",
   "execution_count": 12,
   "metadata": {
    "collapsed": true,
    "deletable": true,
    "editable": true
   },
   "outputs": [],
   "source": [
    "from sklearn.neighbors import KNeighborsClassifier"
   ]
  },
  {
   "cell_type": "code",
   "execution_count": 13,
   "metadata": {
    "collapsed": false,
    "deletable": true,
    "editable": true
   },
   "outputs": [],
   "source": [
    "clf = KNeighborsClassifier(n_jobs=-1)\n",
    "clf.fit(train_data_resized, train_labels)\n",
    "\n",
    "labels_predicted = clf.predict(test_data_resized)"
   ]
  },
  {
   "cell_type": "code",
   "execution_count": 14,
   "metadata": {
    "collapsed": true,
    "deletable": true,
    "editable": true
   },
   "outputs": [],
   "source": [
    "f = open(\"testPredictedLabels.txt\", \"w\")\n",
    "f.write(\"Id,Category\\n\")\n",
    "for i, label in enumerate(labels_predicted):\n",
    "    f.write(str(i) + \",\" + label + \"\\n\")\n",
    "f.close()"
   ]
  }
 ],
 "metadata": {
  "kernelspec": {
   "display_name": "Python 2",
   "language": "python",
   "name": "python2"
  },
  "language_info": {
   "codemirror_mode": {
    "name": "ipython",
    "version": 2
   },
   "file_extension": ".py",
   "mimetype": "text/x-python",
   "name": "python",
   "nbconvert_exporter": "python",
   "pygments_lexer": "ipython2",
   "version": "2.7.13"
  }
 },
 "nbformat": 4,
 "nbformat_minor": 1
}
